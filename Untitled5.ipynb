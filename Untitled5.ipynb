{
 "cells": [
  {
   "cell_type": "code",
   "execution_count": 1,
   "id": "ff627941",
   "metadata": {},
   "outputs": [],
   "source": [
    "import pandas as pd\n",
    "import numpy as np\n",
    "import tensorflow as tf\n",
    "import tensorflow.compat.v2.feature_column as fc\n",
    "from sklearn.feature_selection import RFE\n",
    "from sklearn.preprocessing import MultiLabelBinarizer\n",
    "from sklearn import preprocessing\n",
    "from sklearn.ensemble import RandomForestClassifier"
   ]
  },
  {
   "cell_type": "code",
   "execution_count": 2,
   "id": "132bf95d",
   "metadata": {},
   "outputs": [],
   "source": [
    "#Import dataset using pandas.\n",
    "\n",
    "df = pd.read_csv('UNSW-NB15_3.csv')"
   ]
  },
  {
   "cell_type": "code",
   "execution_count": 3,
   "id": "8cad1ee4",
   "metadata": {},
   "outputs": [],
   "source": [
    "#Import features of the dataset using pandas.\n",
    "\n",
    "feature_names_df = pd.read_csv('NUSW-NB15_features.csv')"
   ]
  },
  {
   "cell_type": "code",
   "execution_count": 4,
   "id": "a33f25fb",
   "metadata": {},
   "outputs": [
    {
     "name": "stdout",
     "output_type": "stream",
     "text": [
      "            srcip  sport          dstip dsport proto state       dur  sbytes  \\\n",
      "0      59.166.0.3  54771  149.171.126.2  27709   tcp   FIN  0.650574    8928   \n",
      "1      59.166.0.8  13289  149.171.126.9   5190   tcp   FIN  0.007980    2158   \n",
      "2  149.171.126.18   1043   175.45.176.3     53   udp   INT  0.000005     264   \n",
      "3  149.171.126.18   1043   175.45.176.3     53   udp   INT  0.000005     264   \n",
      "4      59.166.0.3  10275  149.171.126.0     25   tcp   FIN  0.486578   37462   \n",
      "\n",
      "   dbytes  sttl  ...  ct_ftp_cmd  ct_srv_src  ct_srv_dst ct_dst_ltm  \\\n",
      "0     320    31  ...                       3           5          2   \n",
      "1    2464    31  ...                       3           5          1   \n",
      "2       0    60  ...                      19          19         19   \n",
      "3       0    60  ...                      19          19         19   \n",
      "4    3380    31  ...                       3           2          3   \n",
      "\n",
      "   ct_src_ ltm  ct_src_dport_ltm  ct_dst_sport_ltm  ct_dst_src_ltm  \\\n",
      "0            4                 1                 1               4   \n",
      "1            1                 1                 1               3   \n",
      "2           19                19                19              19   \n",
      "3           19                19                19              19   \n",
      "4            4                 2                 1               2   \n",
      "\n",
      "   attack_cat  Label  \n",
      "0         NaN      0  \n",
      "1         NaN      0  \n",
      "2         NaN      0  \n",
      "3         NaN      0  \n",
      "4         NaN      0  \n",
      "\n",
      "[5 rows x 49 columns]\n"
     ]
    }
   ],
   "source": [
    "# Replace the columns of df with the columns from feature_names_df\n",
    "df.columns = feature_names_df.columns\n",
    "\n",
    "# Print the updated DataFrame\n",
    "print(df.head())"
   ]
  },
  {
   "cell_type": "code",
   "execution_count": 5,
   "id": "3cd1ae31",
   "metadata": {},
   "outputs": [
    {
     "name": "stdout",
     "output_type": "stream",
     "text": [
      "srcip                    0\n",
      "sport                    0\n",
      "dstip                    0\n",
      "dsport                   0\n",
      "proto                    0\n",
      "state                    0\n",
      "dur                      0\n",
      "sbytes                   0\n",
      "dbytes                   0\n",
      "sttl                     0\n",
      "dttl                     0\n",
      "sloss                    0\n",
      "dloss                    0\n",
      "service                  0\n",
      "Sload                    0\n",
      "Dload                    0\n",
      "Spkts                    0\n",
      "Dpkts                    0\n",
      "swin                     0\n",
      "dwin                     0\n",
      "stcpb                    0\n",
      "dtcpb                    0\n",
      "smeansz                  0\n",
      "dmeansz                  0\n",
      "trans_depth              0\n",
      "res_bdy_len              0\n",
      "Sjit                     0\n",
      "Djit                     0\n",
      "Stime                    0\n",
      "Ltime                    0\n",
      "Sintpkt                  0\n",
      "Dintpkt                  0\n",
      "tcprtt                   0\n",
      "synack                   0\n",
      "ackdat                   0\n",
      "is_sm_ips_ports          0\n",
      "ct_state_ttl             0\n",
      "ct_flw_http_mthd    656404\n",
      "is_ftp_login        689428\n",
      "ct_ftp_cmd               0\n",
      "ct_srv_src               0\n",
      "ct_srv_dst               0\n",
      "ct_dst_ltm               0\n",
      "ct_src_ ltm              0\n",
      "ct_src_dport_ltm         0\n",
      "ct_dst_sport_ltm         0\n",
      "ct_dst_src_ltm           0\n",
      "attack_cat          542575\n",
      "Label                    0\n",
      "dtype: int64\n"
     ]
    }
   ],
   "source": [
    "null_counts = df.isnull().sum()\n",
    "\n",
    "# Display the null counts\n",
    "print(null_counts)"
   ]
  },
  {
   "cell_type": "code",
   "execution_count": 6,
   "id": "fe8027a9",
   "metadata": {},
   "outputs": [],
   "source": [
    "#convert String values to Integer\n",
    "label_encoder = preprocessing.LabelEncoder()\n",
    "df['proto'] = label_encoder.fit_transform(df['proto'])\n",
    "df['state'] = label_encoder.fit_transform(df['state'])\n",
    "df['service'] = label_encoder.fit_transform(df['service'])"
   ]
  },
  {
   "cell_type": "code",
   "execution_count": 7,
   "id": "735db18c",
   "metadata": {},
   "outputs": [],
   "source": [
    "#Dropping columns sourceIP and DestinationIP.\n",
    "df = df.drop(['srcip', 'dstip', 'attack_cat', 'is_ftp_login', 'ct_ftp_cmd', 'ct_srv_src', 'ct_srv_dst','ct_dst_sport_ltm', 'ct_dst_src_ltm'], axis=1)\n",
    "feature_names_df = feature_names_df.drop(['srcip', 'dstip', 'attack_cat', 'is_ftp_login', 'ct_ftp_cmd', 'ct_srv_src', 'ct_srv_dst','ct_dst_sport_ltm', 'ct_dst_src_ltm'], axis=1)"
   ]
  },
  {
   "cell_type": "code",
   "execution_count": 8,
   "id": "3f083ada",
   "metadata": {},
   "outputs": [
    {
     "name": "stdout",
     "output_type": "stream",
     "text": [
      "\n",
      "After removing null values:\n",
      "        sport dsport  proto  state       dur  sbytes   dbytes  sttl  dttl  \\\n",
      "14      59392     80    113      4  0.058939    1048      824    31    29   \n",
      "27      60696     80    113      4  1.024202    1684    10168    31    29   \n",
      "37      41398     80    113      4  1.009948    1684    10168    31    29   \n",
      "55      17902     80    113      4  2.401827   19202  1087890    31    29   \n",
      "56      61239     80    113      4  1.026860    1580    10168    31    29   \n",
      "...       ...    ...    ...    ...       ...     ...      ...   ...   ...   \n",
      "699959  29891     80    113      4  1.119790    1684    10168    31    29   \n",
      "699973  16734     80    113      4  4.703796   19410  1087890    31    29   \n",
      "699989  20114     80    113      4  1.116944    1684    10168    31    29   \n",
      "699993  57097     80    113      4  1.203280    1684    10168    31    29   \n",
      "699994  50443     80    113      4  1.359066    1684    10168    31    29   \n",
      "\n",
      "        sloss  ...    tcprtt    synack    ackdat  is_sm_ips_ports  \\\n",
      "14          2  ...  0.000612  0.000487  0.000125                0   \n",
      "27          3  ...  0.001156  0.001032  0.000124                0   \n",
      "37          3  ...  0.000725  0.000503  0.000222                0   \n",
      "55          2  ...  0.000614  0.000500  0.000114                0   \n",
      "56          3  ...  0.000622  0.000497  0.000125                0   \n",
      "...       ...  ...       ...       ...       ...              ...   \n",
      "699959      3  ...  0.000715  0.000550  0.000165                0   \n",
      "699973      2  ...  0.002164  0.001999  0.000165                0   \n",
      "699989      3  ...  0.000983  0.000833  0.000150                0   \n",
      "699993      3  ...  0.000630  0.000506  0.000124                0   \n",
      "699994      3  ...  0.000596  0.000465  0.000131                0   \n",
      "\n",
      "        ct_state_ttl  ct_flw_http_mthd  ct_dst_ltm  ct_src_ ltm  \\\n",
      "14                 0               1.0           3            3   \n",
      "27                 0               1.0           1            2   \n",
      "37                 0               1.0           1            4   \n",
      "55                 0               1.0           4            5   \n",
      "56                 0               1.0           4            1   \n",
      "...              ...               ...         ...          ...   \n",
      "699959             0               1.0           3            4   \n",
      "699973             0               1.0           5            4   \n",
      "699989             0               1.0           4            1   \n",
      "699993             0               1.0           1            7   \n",
      "699994             0               1.0           4            1   \n",
      "\n",
      "        ct_src_dport_ltm  Label  \n",
      "14                     2      0  \n",
      "27                     1      0  \n",
      "37                     1      0  \n",
      "55                     1      0  \n",
      "56                     1      0  \n",
      "...                  ...    ...  \n",
      "699959                 1      0  \n",
      "699973                 1      0  \n",
      "699989                 1      0  \n",
      "699993                 1      0  \n",
      "699994                 1      0  \n",
      "\n",
      "[43596 rows x 40 columns]\n"
     ]
    }
   ],
   "source": [
    "# Remove null values from the DataFrame\n",
    "df.dropna(inplace=True)\n",
    "\n",
    "# Display the DataFrame after removing null values\n",
    "print(\"\\nAfter removing null values:\")\n",
    "print(df)"
   ]
  },
  {
   "cell_type": "code",
   "execution_count": 9,
   "id": "947098bc",
   "metadata": {},
   "outputs": [],
   "source": [
    "from sklearn.preprocessing import MinMaxScaler"
   ]
  },
  {
   "cell_type": "code",
   "execution_count": 10,
   "id": "38ba31ef",
   "metadata": {},
   "outputs": [
    {
     "name": "stdout",
     "output_type": "stream",
     "text": [
      "          sport  dsport  proto  state       dur    sbytes    dbytes  sttl  \\\n",
      "0      0.904774     0.0    0.0  0.375  0.000949  0.000363  0.000083   0.0   \n",
      "1      0.924988     0.0    0.0  0.375  0.017038  0.000626  0.001132   0.0   \n",
      "2      0.625841     0.0    0.0  0.375  0.016801  0.000626  0.001132   0.0   \n",
      "3      0.261618     0.0    0.0  0.375  0.040001  0.007879  0.122143   0.0   \n",
      "4      0.933406     0.0    0.0  0.375  0.017083  0.000583  0.001132   0.0   \n",
      "...         ...     ...    ...    ...       ...       ...       ...   ...   \n",
      "43591  0.447466     0.0    0.0  0.375  0.018632  0.000626  0.001132   0.0   \n",
      "43592  0.243513     0.0    0.0  0.375  0.078370  0.007965  0.122143   0.0   \n",
      "43593  0.295908     0.0    0.0  0.375  0.018584  0.000626  0.001132   0.0   \n",
      "43594  0.869199     0.0    0.0  0.375  0.020023  0.000626  0.001132   0.0   \n",
      "43595  0.766052     0.0    0.0  0.375  0.022620  0.000626  0.001132   0.0   \n",
      "\n",
      "       dttl     sloss  ...    tcprtt    synack    ackdat  is_sm_ips_ports  \\\n",
      "0       0.0  0.002210  ...  0.001009  0.001077  0.000295              0.0   \n",
      "1       0.0  0.003315  ...  0.001906  0.002282  0.000292              0.0   \n",
      "2       0.0  0.003315  ...  0.001196  0.001112  0.000524              0.0   \n",
      "3       0.0  0.002210  ...  0.001013  0.001106  0.000269              0.0   \n",
      "4       0.0  0.003315  ...  0.001026  0.001099  0.000295              0.0   \n",
      "...     ...       ...  ...       ...       ...       ...              ...   \n",
      "43591   0.0  0.003315  ...  0.001179  0.001216  0.000389              0.0   \n",
      "43592   0.0  0.002210  ...  0.003569  0.004421  0.000389              0.0   \n",
      "43593   0.0  0.003315  ...  0.001621  0.001842  0.000354              0.0   \n",
      "43594   0.0  0.003315  ...  0.001039  0.001119  0.000292              0.0   \n",
      "43595   0.0  0.003315  ...  0.000983  0.001028  0.000309              0.0   \n",
      "\n",
      "       ct_state_ttl  ct_flw_http_mthd  ct_dst_ltm  ct_src_ ltm  \\\n",
      "0               0.0               0.0    0.042553     0.043478   \n",
      "1               0.0               0.0    0.000000     0.021739   \n",
      "2               0.0               0.0    0.000000     0.065217   \n",
      "3               0.0               0.0    0.063830     0.086957   \n",
      "4               0.0               0.0    0.063830     0.000000   \n",
      "...             ...               ...         ...          ...   \n",
      "43591           0.0               0.0    0.042553     0.065217   \n",
      "43592           0.0               0.0    0.085106     0.065217   \n",
      "43593           0.0               0.0    0.063830     0.000000   \n",
      "43594           0.0               0.0    0.000000     0.130435   \n",
      "43595           0.0               0.0    0.063830     0.000000   \n",
      "\n",
      "       ct_src_dport_ltm  Label  \n",
      "0                 0.125    0.0  \n",
      "1                 0.000    0.0  \n",
      "2                 0.000    0.0  \n",
      "3                 0.000    0.0  \n",
      "4                 0.000    0.0  \n",
      "...                 ...    ...  \n",
      "43591             0.000    0.0  \n",
      "43592             0.000    0.0  \n",
      "43593             0.000    0.0  \n",
      "43594             0.000    0.0  \n",
      "43595             0.000    0.0  \n",
      "\n",
      "[43596 rows x 40 columns]\n"
     ]
    }
   ],
   "source": [
    "#Normalization of dataframe using MinMaxScaler\n",
    "df = df[df['dsport'] != '0xcc09']\n",
    "feature_names = df.columns\n",
    "\n",
    "scalar = MinMaxScaler()\n",
    "scalar.fit(df)\n",
    "df = scalar.transform(df)\n",
    "normalized_df = pd.DataFrame(df, columns=feature_names)\n",
    "print(normalized_df)"
   ]
  },
  {
   "cell_type": "code",
   "execution_count": 14,
   "id": "1153c14f",
   "metadata": {},
   "outputs": [
    {
     "data": {
      "text/html": [
       "<div>\n",
       "<style scoped>\n",
       "    .dataframe tbody tr th:only-of-type {\n",
       "        vertical-align: middle;\n",
       "    }\n",
       "\n",
       "    .dataframe tbody tr th {\n",
       "        vertical-align: top;\n",
       "    }\n",
       "\n",
       "    .dataframe thead th {\n",
       "        text-align: right;\n",
       "    }\n",
       "</style>\n",
       "<table border=\"1\" class=\"dataframe\">\n",
       "  <thead>\n",
       "    <tr style=\"text-align: right;\">\n",
       "      <th></th>\n",
       "      <th>sport</th>\n",
       "      <th>dsport</th>\n",
       "      <th>proto</th>\n",
       "      <th>state</th>\n",
       "      <th>dur</th>\n",
       "      <th>sbytes</th>\n",
       "      <th>dbytes</th>\n",
       "      <th>sttl</th>\n",
       "      <th>dttl</th>\n",
       "      <th>sloss</th>\n",
       "      <th>...</th>\n",
       "      <th>tcprtt</th>\n",
       "      <th>synack</th>\n",
       "      <th>ackdat</th>\n",
       "      <th>is_sm_ips_ports</th>\n",
       "      <th>ct_state_ttl</th>\n",
       "      <th>ct_flw_http_mthd</th>\n",
       "      <th>ct_dst_ltm</th>\n",
       "      <th>ct_src_ ltm</th>\n",
       "      <th>ct_src_dport_ltm</th>\n",
       "      <th>Label</th>\n",
       "    </tr>\n",
       "  </thead>\n",
       "  <tbody>\n",
       "    <tr>\n",
       "      <th>0</th>\n",
       "      <td>0.904774</td>\n",
       "      <td>0.0</td>\n",
       "      <td>0.0</td>\n",
       "      <td>0.375</td>\n",
       "      <td>0.000949</td>\n",
       "      <td>0.000363</td>\n",
       "      <td>0.000083</td>\n",
       "      <td>0.0</td>\n",
       "      <td>0.0</td>\n",
       "      <td>0.002210</td>\n",
       "      <td>...</td>\n",
       "      <td>0.001009</td>\n",
       "      <td>0.001077</td>\n",
       "      <td>0.000295</td>\n",
       "      <td>0.0</td>\n",
       "      <td>0.0</td>\n",
       "      <td>0.0</td>\n",
       "      <td>0.042553</td>\n",
       "      <td>0.043478</td>\n",
       "      <td>0.125</td>\n",
       "      <td>0.0</td>\n",
       "    </tr>\n",
       "    <tr>\n",
       "      <th>1</th>\n",
       "      <td>0.924988</td>\n",
       "      <td>0.0</td>\n",
       "      <td>0.0</td>\n",
       "      <td>0.375</td>\n",
       "      <td>0.017038</td>\n",
       "      <td>0.000626</td>\n",
       "      <td>0.001132</td>\n",
       "      <td>0.0</td>\n",
       "      <td>0.0</td>\n",
       "      <td>0.003315</td>\n",
       "      <td>...</td>\n",
       "      <td>0.001906</td>\n",
       "      <td>0.002282</td>\n",
       "      <td>0.000292</td>\n",
       "      <td>0.0</td>\n",
       "      <td>0.0</td>\n",
       "      <td>0.0</td>\n",
       "      <td>0.000000</td>\n",
       "      <td>0.021739</td>\n",
       "      <td>0.000</td>\n",
       "      <td>0.0</td>\n",
       "    </tr>\n",
       "    <tr>\n",
       "      <th>2</th>\n",
       "      <td>0.625841</td>\n",
       "      <td>0.0</td>\n",
       "      <td>0.0</td>\n",
       "      <td>0.375</td>\n",
       "      <td>0.016801</td>\n",
       "      <td>0.000626</td>\n",
       "      <td>0.001132</td>\n",
       "      <td>0.0</td>\n",
       "      <td>0.0</td>\n",
       "      <td>0.003315</td>\n",
       "      <td>...</td>\n",
       "      <td>0.001196</td>\n",
       "      <td>0.001112</td>\n",
       "      <td>0.000524</td>\n",
       "      <td>0.0</td>\n",
       "      <td>0.0</td>\n",
       "      <td>0.0</td>\n",
       "      <td>0.000000</td>\n",
       "      <td>0.065217</td>\n",
       "      <td>0.000</td>\n",
       "      <td>0.0</td>\n",
       "    </tr>\n",
       "    <tr>\n",
       "      <th>3</th>\n",
       "      <td>0.261618</td>\n",
       "      <td>0.0</td>\n",
       "      <td>0.0</td>\n",
       "      <td>0.375</td>\n",
       "      <td>0.040001</td>\n",
       "      <td>0.007879</td>\n",
       "      <td>0.122143</td>\n",
       "      <td>0.0</td>\n",
       "      <td>0.0</td>\n",
       "      <td>0.002210</td>\n",
       "      <td>...</td>\n",
       "      <td>0.001013</td>\n",
       "      <td>0.001106</td>\n",
       "      <td>0.000269</td>\n",
       "      <td>0.0</td>\n",
       "      <td>0.0</td>\n",
       "      <td>0.0</td>\n",
       "      <td>0.063830</td>\n",
       "      <td>0.086957</td>\n",
       "      <td>0.000</td>\n",
       "      <td>0.0</td>\n",
       "    </tr>\n",
       "    <tr>\n",
       "      <th>4</th>\n",
       "      <td>0.933406</td>\n",
       "      <td>0.0</td>\n",
       "      <td>0.0</td>\n",
       "      <td>0.375</td>\n",
       "      <td>0.017083</td>\n",
       "      <td>0.000583</td>\n",
       "      <td>0.001132</td>\n",
       "      <td>0.0</td>\n",
       "      <td>0.0</td>\n",
       "      <td>0.003315</td>\n",
       "      <td>...</td>\n",
       "      <td>0.001026</td>\n",
       "      <td>0.001099</td>\n",
       "      <td>0.000295</td>\n",
       "      <td>0.0</td>\n",
       "      <td>0.0</td>\n",
       "      <td>0.0</td>\n",
       "      <td>0.063830</td>\n",
       "      <td>0.000000</td>\n",
       "      <td>0.000</td>\n",
       "      <td>0.0</td>\n",
       "    </tr>\n",
       "  </tbody>\n",
       "</table>\n",
       "<p>5 rows × 40 columns</p>\n",
       "</div>"
      ],
      "text/plain": [
       "      sport  dsport  proto  state       dur    sbytes    dbytes  sttl  dttl  \\\n",
       "0  0.904774     0.0    0.0  0.375  0.000949  0.000363  0.000083   0.0   0.0   \n",
       "1  0.924988     0.0    0.0  0.375  0.017038  0.000626  0.001132   0.0   0.0   \n",
       "2  0.625841     0.0    0.0  0.375  0.016801  0.000626  0.001132   0.0   0.0   \n",
       "3  0.261618     0.0    0.0  0.375  0.040001  0.007879  0.122143   0.0   0.0   \n",
       "4  0.933406     0.0    0.0  0.375  0.017083  0.000583  0.001132   0.0   0.0   \n",
       "\n",
       "      sloss  ...    tcprtt    synack    ackdat  is_sm_ips_ports  ct_state_ttl  \\\n",
       "0  0.002210  ...  0.001009  0.001077  0.000295              0.0           0.0   \n",
       "1  0.003315  ...  0.001906  0.002282  0.000292              0.0           0.0   \n",
       "2  0.003315  ...  0.001196  0.001112  0.000524              0.0           0.0   \n",
       "3  0.002210  ...  0.001013  0.001106  0.000269              0.0           0.0   \n",
       "4  0.003315  ...  0.001026  0.001099  0.000295              0.0           0.0   \n",
       "\n",
       "   ct_flw_http_mthd  ct_dst_ltm  ct_src_ ltm  ct_src_dport_ltm  Label  \n",
       "0               0.0    0.042553     0.043478             0.125    0.0  \n",
       "1               0.0    0.000000     0.021739             0.000    0.0  \n",
       "2               0.0    0.000000     0.065217             0.000    0.0  \n",
       "3               0.0    0.063830     0.086957             0.000    0.0  \n",
       "4               0.0    0.063830     0.000000             0.000    0.0  \n",
       "\n",
       "[5 rows x 40 columns]"
      ]
     },
     "execution_count": 14,
     "metadata": {},
     "output_type": "execute_result"
    }
   ],
   "source": [
    "normalized_df.head()"
   ]
  },
  {
   "cell_type": "code",
   "execution_count": 15,
   "id": "fdfe0282",
   "metadata": {},
   "outputs": [],
   "source": [
    "#assign Features to X and target variables to y\n",
    "\n",
    "columns_to_remove = ['service', 'Label']\n",
    "y = normalized_df[columns_to_remove]\n",
    "X = normalized_df.drop(columns_to_remove, axis=1)"
   ]
  },
  {
   "cell_type": "code",
   "execution_count": 16,
   "id": "d244baa8",
   "metadata": {},
   "outputs": [],
   "source": [
    "X.fillna(0.0, inplace=True)"
   ]
  },
  {
   "cell_type": "code",
   "execution_count": 17,
   "id": "4d2afffc",
   "metadata": {},
   "outputs": [
    {
     "name": "stdout",
     "output_type": "stream",
     "text": [
      "X and y have the same number of samples.\n"
     ]
    }
   ],
   "source": [
    "if len(X) == len(y):\n",
    "    print(\"X and y have the same number of samples.\")\n",
    "else:\n",
    "    print(\"X and y have different number of samples.\")"
   ]
  },
  {
   "cell_type": "code",
   "execution_count": 18,
   "id": "ac985b75",
   "metadata": {},
   "outputs": [],
   "source": [
    "from sklearn.model_selection import train_test_split\n",
    "# Split the data into train and test sets (80% for training, 20% for testing)\n",
    "X_train, X_test, y_train, y_test = train_test_split(X, y, test_size=0.4 )"
   ]
  },
  {
   "cell_type": "code",
   "execution_count": 19,
   "id": "357193d1",
   "metadata": {},
   "outputs": [
    {
     "name": "stdout",
     "output_type": "stream",
     "text": [
      "              precision    recall  f1-score   support\n",
      "\n",
      "           0       1.00      1.00      1.00     17291\n",
      "           1       0.97      0.95      0.96      2752\n",
      "\n",
      "   micro avg       0.99      0.99      0.99     20043\n",
      "   macro avg       0.98      0.98      0.98     20043\n",
      "weighted avg       0.99      0.99      0.99     20043\n",
      " samples avg       0.99      0.99      0.99     20043\n",
      "\n"
     ]
    },
    {
     "name": "stderr",
     "output_type": "stream",
     "text": [
      "C:\\Users\\USER\\anaconda3\\lib\\site-packages\\sklearn\\metrics\\_classification.py:1318: UndefinedMetricWarning: Precision and F-score are ill-defined and being set to 0.0 in samples with no predicted labels. Use `zero_division` parameter to control this behavior.\n",
      "  _warn_prf(average, modifier, msg_start, len(result))\n",
      "C:\\Users\\USER\\anaconda3\\lib\\site-packages\\sklearn\\metrics\\_classification.py:1318: UndefinedMetricWarning: Recall and F-score are ill-defined and being set to 0.0 in samples with no true labels. Use `zero_division` parameter to control this behavior.\n",
      "  _warn_prf(average, modifier, msg_start, len(result))\n"
     ]
    }
   ],
   "source": [
    "#Feature Selection using Recursive Feature Elimination\n",
    "from sklearn.metrics import classification_report\n",
    "model = RandomForestClassifier()  # You can replace this with any other suitable multilabel classification model\n",
    "\n",
    "#Apply RFE\n",
    "rfe = RFE(estimator=model, n_features_to_select=10)  # Adjust the number of desired features as needed\n",
    "rfe.fit(X_train, y_train)\n",
    "\n",
    "# Get the selected features\n",
    "selected_features = X_train.columns[rfe.support_]\n",
    "\n",
    "#Train and evaluate the model with selected features\n",
    "X_train_selected = X_train[selected_features]\n",
    "X_test_selected = X_test[selected_features]\n",
    "\n",
    "model.fit(X_train_selected, y_train)\n",
    "y_pred = model.predict(X_test_selected)\n",
    "\n",
    "print(classification_report(y_test, y_pred))"
   ]
  },
  {
   "cell_type": "code",
   "execution_count": 21,
   "id": "9fdaaa83",
   "metadata": {},
   "outputs": [
    {
     "name": "stdout",
     "output_type": "stream",
     "text": [
      "Index(['sbytes', 'dbytes', 'sttl', 'dttl', 'Dload', 'res_bdy_len', 'tcprtt',\n",
      "       'synack', 'ackdat', 'ct_state_ttl'],\n",
      "      dtype='object')\n"
     ]
    }
   ],
   "source": [
    "print(selected_features)"
   ]
  },
  {
   "cell_type": "code",
   "execution_count": 16,
   "id": "eede58a1",
   "metadata": {},
   "outputs": [
    {
     "data": {
      "text/plain": [
       "array([[0, 0, 0, 1, 1, 1, 0, 1, 1, 1],\n",
       "       [1, 1, 1, 0, 1, 0, 1, 0, 0, 0]])"
      ]
     },
     "execution_count": 16,
     "metadata": {},
     "output_type": "execute_result"
    }
   ],
   "source": [
    "# Create MultiLabelBinarizer object\n",
    "mlb = MultiLabelBinarizer()\n",
    "\n",
    "# One-hot encode data\n",
    "mlb.fit_transform(y_train)\n",
    "mlb.fit_transform(y_test)"
   ]
  },
  {
   "cell_type": "code",
   "execution_count": 17,
   "id": "866e844f",
   "metadata": {},
   "outputs": [],
   "source": [
    "#Build model\n",
    "model = tf.keras.models.Sequential([\n",
    "    tf.keras.layers.Dense(100, activation='relu', input_shape=(X_train_selected.shape[1],)),\n",
    "    tf.keras.layers.Dense(100, activation='relu', kernel_regularizer=tf.keras.regularizers.l2(0.01)),\n",
    "    tf.keras.layers.Dense(100, activation='relu', kernel_regularizer=tf.keras.regularizers.l2(0.01)),\n",
    "    tf.keras.layers.Dense(2, activation='sigmoid')\n",
    "])"
   ]
  },
  {
   "cell_type": "code",
   "execution_count": 18,
   "id": "61380a31",
   "metadata": {},
   "outputs": [],
   "source": [
    " #Compile the model\n",
    "model.compile(optimizer='SGD',\n",
    "              loss='binary_crossentropy',\n",
    "              metrics=['accuracy'])"
   ]
  },
  {
   "cell_type": "code",
   "execution_count": 19,
   "id": "b9c68c95",
   "metadata": {},
   "outputs": [],
   "source": [
    "from tensorflow import keras\n",
    "\n",
    "def create_accuracy_callback(X_train, y_train, X_test, y_test, patience=3):\n",
    "    class AccuracyCallback(keras.callbacks.Callback):\n",
    "        def __init__(self):\n",
    "            super(AccuracyCallback, self).__init__()\n",
    "            self.patience = patience\n",
    "            self.best_val_accuracy = 0\n",
    "            self.wait = 0\n",
    "\n",
    "        def on_epoch_end(self, epoch, logs=None):\n",
    "            train_accuracy = self.model.evaluate(X_train, y_train, verbose=0)[1]\n",
    "            val_accuracy = self.model.evaluate(X_test, y_test, verbose=0)[1]\n",
    "\n",
    "            if val_accuracy > self.best_val_accuracy:\n",
    "                self.best_val_accuracy = val_accuracy\n",
    "                self.wait = 0\n",
    "            else:\n",
    "                self.wait += 1\n",
    "                if self.wait >= self.patience:\n",
    "                    print('\\nEarly stopping: Model is starting to overfit.')\n",
    "                    self.model.stop_training = True\n",
    "\n",
    "\n",
    "    return AccuracyCallback()"
   ]
  },
  {
   "cell_type": "code",
   "execution_count": 20,
   "id": "b4407ca1",
   "metadata": {},
   "outputs": [],
   "source": [
    "accuracy_callback = create_accuracy_callback(X_train_selected, y_train, X_test_selected, y_test, patience=3)"
   ]
  },
  {
   "cell_type": "code",
   "execution_count": 21,
   "id": "d6fc7681",
   "metadata": {},
   "outputs": [],
   "source": [
    "import matplotlib.pyplot as plt\n",
    "from sklearn.metrics import roc_curve, roc_auc_score"
   ]
  },
  {
   "cell_type": "code",
   "execution_count": 23,
   "id": "fefa296f",
   "metadata": {},
   "outputs": [
    {
     "name": "stdout",
     "output_type": "stream",
     "text": [
      "Epoch 1/10\n",
      "818/818 [==============================] - 6s 5ms/step - loss: 2.0007 - accuracy: 0.9935\n",
      "Epoch 2/10\n",
      "818/818 [==============================] - 4s 5ms/step - loss: 1.3533 - accuracy: 0.9942\n",
      "Epoch 3/10\n",
      "818/818 [==============================] - 3s 4ms/step - loss: 0.9933 - accuracy: 0.9942\n",
      "Epoch 4/10\n",
      "794/818 [============================>.] - ETA: 0s - loss: 0.7443 - accuracy: 0.9942\n",
      "Early stopping: Model is starting to overfit.\n",
      "818/818 [==============================] - 4s 4ms/step - loss: 0.7417 - accuracy: 0.9942\n",
      "818/818 [==============================] - 1s 2ms/step - loss: 0.6412 - accuracy: 0.9942\n",
      "Training accuracy: 0.9941889643669128\n"
     ]
    },
    {
     "data": {
      "image/png": "[encoded data removed]",
      "text/plain": [
       "<Figure size 640x480 with 1 Axes>"
      ]
     },
     "metadata": {},
     "output_type": "display_data"
    },
    {
     "data": {
      "image/png": "[encoded data removed]",
      "text/plain": [
       "<Figure size 640x480 with 1 Axes>"
      ]
     },
     "metadata": {},
     "output_type": "display_data"
    }
   ],
   "source": [
    "# Train the model with selected features\n",
    "history = model.fit(X_train_selected, y_train, epochs=10, batch_size=32, callbacks=[accuracy_callback], verbose=1)\n",
    "\n",
    "# Evaluate the model\n",
    "_, train_accuracy = model.evaluate(X_train_selected, y_train)\n",
    "print(\"Training accuracy:\", train_accuracy)\n",
    "\n",
    "# Plot training graph\n",
    "def plot_training_graph(history):\n",
    "    # Extract training metrics from history object\n",
    "    accuracy = history.history['accuracy']\n",
    "    loss = history.history['loss']\n",
    "    epochs = range(1, len(accuracy) + 1)\n",
    "\n",
    "    # Plot accuracy\n",
    "    plt.plot(epochs, accuracy, 'b', label='Training Accuracy')\n",
    "    plt.title('Testing Accuracy')\n",
    "    plt.xlabel('Epochs')\n",
    "    plt.ylabel('Accuracy')\n",
    "    plt.legend()\n",
    "    plt.figure()\n",
    "\n",
    "    # Plot loss\n",
    "    plt.plot(epochs, loss, 'r', label='Training Loss')\n",
    "    plt.title('Testing Loss')\n",
    "    plt.xlabel('Epochs')\n",
    "    plt.ylabel('Loss')\n",
    "    plt.legend()\n",
    "    plt.show()\n",
    "    \n",
    "plot_training_graph(history)"
   ]
  },
  {
   "cell_type": "code",
   "execution_count": 24,
   "id": "348135ed",
   "metadata": {},
   "outputs": [
    {
     "name": "stdout",
     "output_type": "stream",
     "text": [
      "Epoch 1/10\n",
      "545/545 [==============================] - 1s 2ms/step - loss: 0.5875 - accuracy: 0.9946\n",
      "Epoch 2/10\n",
      "545/545 [==============================] - 1s 2ms/step - loss: 0.4907 - accuracy: 0.9946\n",
      "Epoch 3/10\n",
      "545/545 [==============================] - 1s 2ms/step - loss: 0.4128 - accuracy: 0.9946\n",
      "Epoch 4/10\n",
      "545/545 [==============================] - 1s 2ms/step - loss: 0.3499 - accuracy: 0.9946\n",
      "Epoch 5/10\n",
      "545/545 [==============================] - 1s 2ms/step - loss: 0.2992 - accuracy: 0.9946\n",
      "Epoch 6/10\n",
      "545/545 [==============================] - 1s 2ms/step - loss: 0.2583 - accuracy: 0.9946\n",
      "Epoch 7/10\n",
      "545/545 [==============================] - 1s 2ms/step - loss: 0.2252 - accuracy: 0.9946\n",
      "Epoch 8/10\n",
      "545/545 [==============================] - 1s 2ms/step - loss: 0.1985 - accuracy: 0.9946\n",
      "Epoch 9/10\n",
      "545/545 [==============================] - 1s 2ms/step - loss: 0.1768 - accuracy: 0.9946\n",
      "Epoch 10/10\n",
      "545/545 [==============================] - 1s 2ms/step - loss: 0.1592 - accuracy: 0.9946\n",
      "545/545 [==============================] - 1s 2ms/step - loss: 0.1515 - accuracy: 0.9946\n",
      "Test accuracy: 0.9946097731590271\n"
     ]
    },
    {
     "data": {
      "image/png": "[encoded data removed]",
      "text/plain": [
       "<Figure size 640x480 with 1 Axes>"
      ]
     },
     "metadata": {},
     "output_type": "display_data"
    },
    {
     "data": {
      "image/png": "[encoded data removed]",
      "text/plain": [
       "<Figure size 640x480 with 1 Axes>"
      ]
     },
     "metadata": {},
     "output_type": "display_data"
    }
   ],
   "source": [
    "# Train the model with selected features\n",
    "history = model.fit(X_test_selected, y_test, epochs=10, batch_size=32)\n",
    "\n",
    "# Evaluate the model\n",
    "_, test_accuracy = model.evaluate(X_test_selected, y_test)\n",
    "print(\"Test accuracy:\", test_accuracy)\n",
    "\n",
    "# Plot training graph\n",
    "def plot_training_graph(history):\n",
    "    # Extract training metrics from history object\n",
    "    accuracy = history.history['accuracy']\n",
    "    loss = history.history['loss']\n",
    "    epochs = range(1, len(accuracy) + 1)\n",
    "\n",
    "    # Plot accuracy\n",
    "    plt.plot(epochs, accuracy, 'b', label='Training Accuracy')\n",
    "    plt.title('Training Accuracy')\n",
    "    plt.xlabel('Epochs')\n",
    "    plt.ylabel('Accuracy')\n",
    "    plt.legend()\n",
    "    plt.figure()\n",
    "\n",
    "    # Plot loss\n",
    "    plt.plot(epochs, loss, 'r', label='Training Loss')\n",
    "    plt.title('Training Loss')\n",
    "    plt.xlabel('Epochs')\n",
    "    plt.ylabel('Loss')\n",
    "    plt.legend()\n",
    "    plt.show()\n",
    "    \n",
    "plot_training_graph(history)"
   ]
  },
  {
   "cell_type": "code",
   "execution_count": 25,
   "id": "b060d2b7",
   "metadata": {},
   "outputs": [
    {
     "name": "stdout",
     "output_type": "stream",
     "text": [
      "545/545 [==============================] - 1s 1ms/step\n",
      "              precision    recall  f1-score   support\n",
      "\n",
      "           0       0.99      1.00      1.00     17286\n",
      "           1       0.81      1.00      0.90      2851\n",
      "\n",
      "   micro avg       0.96      1.00      0.98     20137\n",
      "   macro avg       0.90      1.00      0.95     20137\n",
      "weighted avg       0.97      1.00      0.98     20137\n",
      " samples avg       0.98      1.00      0.98     20137\n",
      "\n"
     ]
    },
    {
     "name": "stderr",
     "output_type": "stream",
     "text": [
      "C:\\Users\\USER\\anaconda3\\lib\\site-packages\\sklearn\\metrics\\_classification.py:1318: UndefinedMetricWarning: Recall and F-score are ill-defined and being set to 0.0 in samples with no true labels. Use `zero_division` parameter to control this behavior.\n",
      "  _warn_prf(average, modifier, msg_start, len(result))\n"
     ]
    }
   ],
   "source": [
    "from sklearn.metrics import classification_report\n",
    "\n",
    "# Predict using the trained model\n",
    "y_pred_prob = model.predict(X_test_selected)\n",
    "\n",
    "# Convert predicted probabilities to binary labels\n",
    "y_pred_binary = (y_pred_prob > 0.5).astype(int)\n",
    "\n",
    "# Evaluate the model\n",
    "print(classification_report(y_test, y_pred_binary))"
   ]
  },
  {
   "cell_type": "code",
   "execution_count": 29,
   "id": "52c1b427",
   "metadata": {},
   "outputs": [],
   "source": [
    "# Compute the ROC curve and AUC for each class\n",
    "fpr, tpr, thresholds = roc_curve(y_test.ravel(), y_pred_prob.ravel())\n",
    "roc_auc = roc_auc_score(y_test, y_pred_prob)"
   ]
  },
  {
   "cell_type": "code",
   "execution_count": 27,
   "id": "09d4396b",
   "metadata": {},
   "outputs": [],
   "source": [
    "import matplotlib.pyplot as plt\n",
    "from sklearn.metrics import roc_curve, roc_auc_score"
   ]
  },
  {
   "cell_type": "code",
   "execution_count": 28,
   "id": "2fc623c1",
   "metadata": {},
   "outputs": [],
   "source": [
    "y_test = y_test.values"
   ]
  },
  {
   "cell_type": "code",
   "execution_count": 42,
   "id": "97a1697b",
   "metadata": {},
   "outputs": [
    {
     "data": {
      "text/plain": [
       "array([[1., 0.],\n",
       "       [1., 0.],\n",
       "       [1., 0.],\n",
       "       ...,\n",
       "       [1., 0.],\n",
       "       [1., 0.],\n",
       "       [1., 0.]])"
      ]
     },
     "execution_count": 42,
     "metadata": {},
     "output_type": "execute_result"
    }
   ],
   "source": [
    "y_test"
   ]
  },
  {
   "cell_type": "code",
   "execution_count": 32,
   "id": "beff8c3e",
   "metadata": {},
   "outputs": [],
   "source": [
    "from sklearn.metrics import f1_score, precision_score, recall_score, roc_auc_score, roc_curve\n",
    "f1 = f1_score(y_test, y_pred_binary, average='weighted')\n",
    "precision = precision_score(y_test, y_pred_binary, average='weighted')\n",
    "recall = recall_score(y_test, y_pred_binary, average='weighted')\n",
    "#auc_score = roc_auc_score(y_test, y_pred_binary[:, 1], average='weighted')"
   ]
  },
  {
   "cell_type": "code",
   "execution_count": 33,
   "id": "9d95aa4f",
   "metadata": {},
   "outputs": [
    {
     "name": "stdout",
     "output_type": "stream",
     "text": [
      "0.9817453194919381\n",
      "0.966241160739453\n",
      "0.9999503401698366\n"
     ]
    }
   ],
   "source": [
    "print(f1)\n",
    "print(precision)\n",
    "print(recall)"
   ]
  },
  {
   "cell_type": "code",
   "execution_count": null,
   "id": "f524096d",
   "metadata": {},
   "outputs": [],
   "source": []
  },
  {
   "cell_type": "code",
   "execution_count": 53,
   "id": "30355f87",
   "metadata": {},
   "outputs": [
    {
     "data": {
      "image/png": "[encoded data removed]",
      "text/plain": [
       "<Figure size 640x480 with 1 Axes>"
      ]
     },
     "metadata": {},
     "output_type": "display_data"
    }
   ],
   "source": [
    "# Plot the ROC curve\n",
    "plt.figure()\n",
    "plt.plot(fpr, tpr, color='darkorange', lw=2, label='ROC curve (AUC = %0.2f)' % roc_auc)\n",
    "plt.plot([0, 1], [0, 1], color='navy', lw=2, linestyle='--')\n",
    "plt.xlim([0.0, 1.0])\n",
    "plt.ylim([0.0, 1.05])\n",
    "plt.xlabel('False Positive Rate')\n",
    "plt.ylabel('True Positive Rate')\n",
    "plt.title('Receiver Operating Characteristic')\n",
    "plt.legend(loc=\"lower right\")\n",
    "plt.show()"
   ]
  },
  {
   "cell_type": "code",
   "execution_count": 55,
   "id": "3dcce915",
   "metadata": {},
   "outputs": [
    {
     "data": {
      "image/png": "[encoded data removed]",
      "text/plain": [
       "<Figure size 1200x400 with 2 Axes>"
      ]
     },
     "metadata": {},
     "output_type": "display_data"
    }
   ],
   "source": [
    "import matplotlib.pyplot as plt\n",
    "\n",
    "# Plot accuracy and loss curves during training\n",
    "plt.figure(figsize=(12, 4))\n",
    "plt.subplot(1, 2, 1)\n",
    "plt.plot(history.history['accuracy'], label='Accuracy')\n",
    "plt.title('Testing Accuracy')\n",
    "plt.xlabel('Epochs')\n",
    "plt.ylabel('Accuracy')\n",
    "plt.legend()\n",
    "\n",
    "plt.subplot(1, 2, 2)\n",
    "plt.plot(history.history['loss'], label='Loss')\n",
    "plt.title('Testing Loss')\n",
    "plt.xlabel('Epochs')\n",
    "plt.ylabel('Loss')\n",
    "plt.legend()\n",
    "\n",
    "plt.tight_layout()\n",
    "plt.show()"
   ]
  },
  {
   "cell_type": "code",
   "execution_count": 28,
   "id": "a45d5c25",
   "metadata": {},
   "outputs": [
    {
     "data": {
      "text/plain": [
       "array([[1, 1],\n",
       "       [0, 1],\n",
       "       [1, 1],\n",
       "       ...,\n",
       "       [1, 1],\n",
       "       [1, 1],\n",
       "       [1, 1]])"
      ]
     },
     "execution_count": 28,
     "metadata": {},
     "output_type": "execute_result"
    }
   ],
   "source": [
    "mlb.fit_transform(y_pred_prob)"
   ]
  },
  {
   "cell_type": "code",
   "execution_count": 34,
   "id": "db66a137",
   "metadata": {},
   "outputs": [],
   "source": [
    "#Build model\n",
    "MLP_model = tf.keras.models.Sequential([\n",
    "    tf.keras.layers.Dense(100, activation='relu', input_shape=(10,)),\n",
    "    tf.keras.layers.Dense(100, activation='relu'),\n",
    "    tf.keras.layers.Dense(100, activation='relu'),\n",
    "    tf.keras.layers.Dense(2, activation='sigmoid')\n",
    "])"
   ]
  },
  {
   "cell_type": "code",
   "execution_count": 35,
   "id": "abb0f71b",
   "metadata": {},
   "outputs": [],
   "source": [
    " #Compile the model\n",
    "MLP_model.compile(optimizer='SGD',\n",
    "              loss='binary_crossentropy',\n",
    "              metrics=['accuracy'])"
   ]
  },
  {
   "cell_type": "code",
   "execution_count": 36,
   "id": "c0537c7b",
   "metadata": {},
   "outputs": [
    {
     "name": "stdout",
     "output_type": "stream",
     "text": [
      "Epoch 1/10\n",
      "818/818 [==============================] - 2s 2ms/step - loss: 0.2889 - accuracy: 0.9863\n",
      "Epoch 2/10\n",
      "818/818 [==============================] - 2s 2ms/step - loss: 0.0840 - accuracy: 0.9942\n",
      "Epoch 3/10\n",
      "818/818 [==============================] - 2s 2ms/step - loss: 0.0667 - accuracy: 0.9933\n",
      "Epoch 4/10\n",
      "818/818 [==============================] - 2s 2ms/step - loss: 0.0638 - accuracy: 0.9546\n",
      "Epoch 5/10\n",
      "818/818 [==============================] - 2s 2ms/step - loss: 0.0627 - accuracy: 0.9270\n",
      "Epoch 6/10\n",
      "818/818 [==============================] - 2s 2ms/step - loss: 0.0621 - accuracy: 0.9255\n",
      "Epoch 7/10\n",
      "818/818 [==============================] - 2s 2ms/step - loss: 0.0617 - accuracy: 0.9256\n",
      "Epoch 8/10\n",
      "818/818 [==============================] - 2s 2ms/step - loss: 0.0615 - accuracy: 0.9255\n",
      "Epoch 9/10\n",
      "818/818 [==============================] - 2s 2ms/step - loss: 0.0612 - accuracy: 0.9256\n",
      "Epoch 10/10\n",
      "818/818 [==============================] - 2s 2ms/step - loss: 0.0610 - accuracy: 0.9263\n",
      "818/818 [==============================] - 2s 2ms/step - loss: 0.0614 - accuracy: 0.9253\n",
      "Training accuracy: 0.9253354668617249\n"
     ]
    }
   ],
   "source": [
    "# Train the model with selected features\n",
    "MLP_model.fit(X_train_selected, y_train, epochs=10, batch_size=32)\n",
    "\n",
    "# Evaluate the model\n",
    "_, train_accuracy = MLP_model.evaluate(X_train_selected, y_train)\n",
    "print(\"Training accuracy:\", train_accuracy)"
   ]
  },
  {
   "cell_type": "code",
   "execution_count": 40,
   "id": "2bc46773",
   "metadata": {},
   "outputs": [
    {
     "name": "stdout",
     "output_type": "stream",
     "text": [
      "545/545 [==============================] - 1s 2ms/step\n",
      "              precision    recall  f1-score   support\n",
      "\n",
      "           0       0.99      1.00      1.00     17286\n",
      "           1       0.81      1.00      0.90      2851\n",
      "\n",
      "   micro avg       0.96      1.00      0.98     20137\n",
      "   macro avg       0.90      1.00      0.95     20137\n",
      "weighted avg       0.97      1.00      0.98     20137\n",
      " samples avg       0.98      1.00      0.98     20137\n",
      "\n"
     ]
    },
    {
     "name": "stderr",
     "output_type": "stream",
     "text": [
      "C:\\Users\\USER\\anaconda3\\lib\\site-packages\\sklearn\\metrics\\_classification.py:1318: UndefinedMetricWarning: Recall and F-score are ill-defined and being set to 0.0 in samples with no true labels. Use `zero_division` parameter to control this behavior.\n",
      "  _warn_prf(average, modifier, msg_start, len(result))\n"
     ]
    }
   ],
   "source": [
    "from sklearn.metrics import classification_report\n",
    "\n",
    "# Predict using the trained model\n",
    "y_pred_prob = model.predict(X_test_selected)\n",
    "\n",
    "# Convert predicted probabilities to binary labels\n",
    "y_pred_binary2 = (y_pred_prob > 0.5).astype(int)\n",
    "\n",
    "# Evaluate the model\n",
    "print(classification_report(y_test, y_pred_binary2))"
   ]
  },
  {
   "cell_type": "code",
   "execution_count": 28,
   "id": "1c041020",
   "metadata": {},
   "outputs": [
    {
     "data": {
      "text/html": [
       "<div>\n",
       "<style scoped>\n",
       "    .dataframe tbody tr th:only-of-type {\n",
       "        vertical-align: middle;\n",
       "    }\n",
       "\n",
       "    .dataframe tbody tr th {\n",
       "        vertical-align: top;\n",
       "    }\n",
       "\n",
       "    .dataframe thead th {\n",
       "        text-align: right;\n",
       "    }\n",
       "</style>\n",
       "<table border=\"1\" class=\"dataframe\">\n",
       "  <thead>\n",
       "    <tr style=\"text-align: right;\">\n",
       "      <th></th>\n",
       "      <th>sbytes</th>\n",
       "      <th>dbytes</th>\n",
       "      <th>sttl</th>\n",
       "      <th>dttl</th>\n",
       "      <th>Dload</th>\n",
       "      <th>res_bdy_len</th>\n",
       "      <th>tcprtt</th>\n",
       "      <th>synack</th>\n",
       "      <th>ackdat</th>\n",
       "      <th>ct_state_ttl</th>\n",
       "    </tr>\n",
       "  </thead>\n",
       "  <tbody>\n",
       "    <tr>\n",
       "      <th>9790</th>\n",
       "      <td>0.000583</td>\n",
       "      <td>0.001132</td>\n",
       "      <td>0.000000</td>\n",
       "      <td>0.000000</td>\n",
       "      <td>0.003905</td>\n",
       "      <td>0.000000</td>\n",
       "      <td>0.001116</td>\n",
       "      <td>0.001183</td>\n",
       "      <td>0.000335</td>\n",
       "      <td>0.000000</td>\n",
       "    </tr>\n",
       "    <tr>\n",
       "      <th>3938</th>\n",
       "      <td>0.000284</td>\n",
       "      <td>0.000126</td>\n",
       "      <td>0.139013</td>\n",
       "      <td>0.991111</td>\n",
       "      <td>0.000621</td>\n",
       "      <td>0.000020</td>\n",
       "      <td>0.331774</td>\n",
       "      <td>0.250071</td>\n",
       "      <td>0.207786</td>\n",
       "      <td>0.333333</td>\n",
       "    </tr>\n",
       "    <tr>\n",
       "      <th>3252</th>\n",
       "      <td>0.000268</td>\n",
       "      <td>0.000020</td>\n",
       "      <td>1.000000</td>\n",
       "      <td>0.991111</td>\n",
       "      <td>0.000193</td>\n",
       "      <td>0.000000</td>\n",
       "      <td>0.298593</td>\n",
       "      <td>0.178402</td>\n",
       "      <td>0.236763</td>\n",
       "      <td>0.333333</td>\n",
       "    </tr>\n",
       "    <tr>\n",
       "      <th>9545</th>\n",
       "      <td>0.000583</td>\n",
       "      <td>0.001132</td>\n",
       "      <td>0.000000</td>\n",
       "      <td>0.000000</td>\n",
       "      <td>0.003905</td>\n",
       "      <td>0.000598</td>\n",
       "      <td>0.001083</td>\n",
       "      <td>0.001154</td>\n",
       "      <td>0.000318</td>\n",
       "      <td>0.000000</td>\n",
       "    </tr>\n",
       "    <tr>\n",
       "      <th>10820</th>\n",
       "      <td>0.000626</td>\n",
       "      <td>0.001132</td>\n",
       "      <td>0.000000</td>\n",
       "      <td>0.000000</td>\n",
       "      <td>0.003888</td>\n",
       "      <td>0.000598</td>\n",
       "      <td>0.001166</td>\n",
       "      <td>0.001247</td>\n",
       "      <td>0.000337</td>\n",
       "      <td>0.000000</td>\n",
       "    </tr>\n",
       "    <tr>\n",
       "      <th>...</th>\n",
       "      <td>...</td>\n",
       "      <td>...</td>\n",
       "      <td>...</td>\n",
       "      <td>...</td>\n",
       "      <td>...</td>\n",
       "      <td>...</td>\n",
       "      <td>...</td>\n",
       "      <td>...</td>\n",
       "      <td>...</td>\n",
       "      <td>...</td>\n",
       "    </tr>\n",
       "    <tr>\n",
       "      <th>6265</th>\n",
       "      <td>0.000626</td>\n",
       "      <td>0.001132</td>\n",
       "      <td>0.000000</td>\n",
       "      <td>0.000000</td>\n",
       "      <td>0.003896</td>\n",
       "      <td>0.000598</td>\n",
       "      <td>0.001039</td>\n",
       "      <td>0.001101</td>\n",
       "      <td>0.000311</td>\n",
       "      <td>0.000000</td>\n",
       "    </tr>\n",
       "    <tr>\n",
       "      <th>11284</th>\n",
       "      <td>0.000265</td>\n",
       "      <td>0.000477</td>\n",
       "      <td>0.139013</td>\n",
       "      <td>0.991111</td>\n",
       "      <td>0.004128</td>\n",
       "      <td>0.000263</td>\n",
       "      <td>0.150937</td>\n",
       "      <td>0.113649</td>\n",
       "      <td>0.094656</td>\n",
       "      <td>0.333333</td>\n",
       "    </tr>\n",
       "    <tr>\n",
       "      <th>38158</th>\n",
       "      <td>0.000583</td>\n",
       "      <td>0.001132</td>\n",
       "      <td>0.000000</td>\n",
       "      <td>0.000000</td>\n",
       "      <td>0.003603</td>\n",
       "      <td>0.000598</td>\n",
       "      <td>0.001181</td>\n",
       "      <td>0.001280</td>\n",
       "      <td>0.000323</td>\n",
       "      <td>0.000000</td>\n",
       "    </tr>\n",
       "    <tr>\n",
       "      <th>860</th>\n",
       "      <td>0.000248</td>\n",
       "      <td>0.000268</td>\n",
       "      <td>0.139013</td>\n",
       "      <td>0.991111</td>\n",
       "      <td>0.000542</td>\n",
       "      <td>0.000121</td>\n",
       "      <td>0.171764</td>\n",
       "      <td>0.082967</td>\n",
       "      <td>0.157159</td>\n",
       "      <td>0.333333</td>\n",
       "    </tr>\n",
       "    <tr>\n",
       "      <th>15795</th>\n",
       "      <td>0.000363</td>\n",
       "      <td>0.000083</td>\n",
       "      <td>0.000000</td>\n",
       "      <td>0.000000</td>\n",
       "      <td>0.075319</td>\n",
       "      <td>0.000013</td>\n",
       "      <td>0.001202</td>\n",
       "      <td>0.001314</td>\n",
       "      <td>0.000318</td>\n",
       "      <td>0.000000</td>\n",
       "    </tr>\n",
       "  </tbody>\n",
       "</table>\n",
       "<p>34876 rows × 10 columns</p>\n",
       "</div>"
      ],
      "text/plain": [
       "         sbytes    dbytes      sttl      dttl     Dload  res_bdy_len  \\\n",
       "9790   0.000583  0.001132  0.000000  0.000000  0.003905     0.000000   \n",
       "3938   0.000284  0.000126  0.139013  0.991111  0.000621     0.000020   \n",
       "3252   0.000268  0.000020  1.000000  0.991111  0.000193     0.000000   \n",
       "9545   0.000583  0.001132  0.000000  0.000000  0.003905     0.000598   \n",
       "10820  0.000626  0.001132  0.000000  0.000000  0.003888     0.000598   \n",
       "...         ...       ...       ...       ...       ...          ...   \n",
       "6265   0.000626  0.001132  0.000000  0.000000  0.003896     0.000598   \n",
       "11284  0.000265  0.000477  0.139013  0.991111  0.004128     0.000263   \n",
       "38158  0.000583  0.001132  0.000000  0.000000  0.003603     0.000598   \n",
       "860    0.000248  0.000268  0.139013  0.991111  0.000542     0.000121   \n",
       "15795  0.000363  0.000083  0.000000  0.000000  0.075319     0.000013   \n",
       "\n",
       "         tcprtt    synack    ackdat  ct_state_ttl  \n",
       "9790   0.001116  0.001183  0.000335      0.000000  \n",
       "3938   0.331774  0.250071  0.207786      0.333333  \n",
       "3252   0.298593  0.178402  0.236763      0.333333  \n",
       "9545   0.001083  0.001154  0.000318      0.000000  \n",
       "10820  0.001166  0.001247  0.000337      0.000000  \n",
       "...         ...       ...       ...           ...  \n",
       "6265   0.001039  0.001101  0.000311      0.000000  \n",
       "11284  0.150937  0.113649  0.094656      0.333333  \n",
       "38158  0.001181  0.001280  0.000323      0.000000  \n",
       "860    0.171764  0.082967  0.157159      0.333333  \n",
       "15795  0.001202  0.001314  0.000318      0.000000  \n",
       "\n",
       "[34876 rows x 10 columns]"
      ]
     },
     "execution_count": 28,
     "metadata": {},
     "output_type": "execute_result"
    }
   ],
   "source": [
    "X_train_selected"
   ]
  },
  {
   "cell_type": "code",
   "execution_count": 41,
   "id": "80a23bac",
   "metadata": {},
   "outputs": [],
   "source": [
    "from sklearn.metrics import f1_score, precision_score, recall_score, roc_auc_score, roc_curve\n",
    "f1 = f1_score(y_test, y_pred_binary2, average='weighted')\n",
    "precision = precision_score(y_test, y_pred_binary2, average='weighted')\n",
    "recall = recall_score(y_test, y_pred_binary2, average='weighted')\n",
    "#auc_score = roc_auc_score(y_test, y_pred_binary[:, 1], average='weighted')"
   ]
  },
  {
   "cell_type": "code",
   "execution_count": 42,
   "id": "0b08ca8e",
   "metadata": {},
   "outputs": [
    {
     "name": "stdout",
     "output_type": "stream",
     "text": [
      "0.9817453194919381\n",
      "0.966241160739453\n",
      "0.9999503401698366\n"
     ]
    }
   ],
   "source": [
    "print(f1)\n",
    "print(precision)\n",
    "print(recall)"
   ]
  },
  {
   "cell_type": "code",
   "execution_count": 43,
   "id": "3871dac4",
   "metadata": {},
   "outputs": [
    {
     "data": {
      "image/png": "[encoded data removed]",
      "text/plain": [
       "<Figure size 640x480 with 1 Axes>"
      ]
     },
     "metadata": {},
     "output_type": "display_data"
    }
   ],
   "source": [
    "# Plot the ROC curve\n",
    "plt.figure()\n",
    "plt.plot(fpr, tpr, color='darkorange', lw=2, label='ROC curve (AUC = %0.2f)' % roc_auc)\n",
    "plt.plot([0, 1], [0, 1], color='navy', lw=2, linestyle='--')\n",
    "plt.xlim([0.0, 1.0])\n",
    "plt.ylim([0.0, 1.05])\n",
    "plt.xlabel('False Positive Rate')\n",
    "plt.ylabel('True Positive Rate')\n",
    "plt.title('Receiver Operating Characteristic')\n",
    "plt.legend(loc=\"lower right\")\n",
    "plt.show()"
   ]
  },
  {
   "cell_type": "code",
   "execution_count": null,
   "id": "499be3cf",
   "metadata": {},
   "outputs": [],
   "source": []
  }
 ],
 "metadata": {
  "kernelspec": {
   "display_name": "Python 3 (ipykernel)",
   "language": "python",
   "name": "python3"
  },
  "language_info": {
   "codemirror_mode": {
    "name": "ipython",
    "version": 3
   },
   "file_extension": ".py",
   "mimetype": "text/x-python",
   "name": "python",
   "nbconvert_exporter": "python",
   "pygments_lexer": "ipython3",
   "version": "3.9.13"
  }
 },
 "nbformat": 4,
 "nbformat_minor": 5
}
